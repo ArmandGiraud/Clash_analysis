{
 "cells": [
  {
   "cell_type": "markdown",
   "metadata": {},
   "source": [
    "# Loading packages"
   ]
  },
  {
   "cell_type": "code",
   "execution_count": 19,
   "metadata": {
    "collapsed": true
   },
   "outputs": [],
   "source": [
    "Data_path = \"D:\\Huge datasets\\Clash_royale\\data\"\n",
    "\n",
    "import pandas as pd\n",
    "from os import path\n",
    "import json\n",
    "import codecs\n",
    "import ast\n",
    "import numpy as np\n",
    "import seaborn as sns\n",
    "from itertools import chain\n",
    "from sklearn.linear_model import LogisticRegression"
   ]
  },
  {
   "cell_type": "markdown",
   "metadata": {},
   "source": [
    "# Loading Files"
   ]
  },
  {
   "cell_type": "code",
   "execution_count": 20,
   "metadata": {
    "collapsed": false
   },
   "outputs": [
    {
     "data": {
      "text/html": [
       "<div>\n",
       "<style scoped>\n",
       "    .dataframe tbody tr th:only-of-type {\n",
       "        vertical-align: middle;\n",
       "    }\n",
       "\n",
       "    .dataframe tbody tr th {\n",
       "        vertical-align: top;\n",
       "    }\n",
       "\n",
       "    .dataframe thead th {\n",
       "        text-align: right;\n",
       "    }\n",
       "</style>\n",
       "<table border=\"1\" class=\"dataframe\">\n",
       "  <thead>\n",
       "    <tr style=\"text-align: right;\">\n",
       "      <th></th>\n",
       "      <th>time</th>\n",
       "      <th>type</th>\n",
       "      <th>left_clan</th>\n",
       "      <th>left_deck</th>\n",
       "      <th>left_deck_list</th>\n",
       "      <th>left_level_list</th>\n",
       "      <th>left_name</th>\n",
       "      <th>left_trophy</th>\n",
       "      <th>right_clan</th>\n",
       "      <th>right_deck</th>\n",
       "      <th>right_deck_list</th>\n",
       "      <th>right_level_list</th>\n",
       "      <th>right_name</th>\n",
       "      <th>right_trophy</th>\n",
       "      <th>left_crowns</th>\n",
       "      <th>right_crowns</th>\n",
       "    </tr>\n",
       "  </thead>\n",
       "  <tbody>\n",
       "    <tr>\n",
       "      <th>0</th>\n",
       "      <td>2017-07-12</td>\n",
       "      <td>ladder</td>\n",
       "      <td>battusai</td>\n",
       "      <td>[[Fireball, 9], [Archers, 12], [Goblins, 12], ...</td>\n",
       "      <td>[Fireball, Archers, Goblins, Minions, Bomber, ...</td>\n",
       "      <td>[9, 12, 12, 11, 12, 2, 12, 13]</td>\n",
       "      <td>Supr4</td>\n",
       "      <td>4325</td>\n",
       "      <td>TwoFiveOne</td>\n",
       "      <td>[[Mega Minion, 9], [Electro Wizard, 3], [Arrow...</td>\n",
       "      <td>[Mega Minion, Electro Wizard, Arrows, Lightnin...</td>\n",
       "      <td>[9, 3, 11, 5, 9, 2, 9, 5]</td>\n",
       "      <td>gpa raid</td>\n",
       "      <td>4258</td>\n",
       "      <td>2</td>\n",
       "      <td>0</td>\n",
       "    </tr>\n",
       "    <tr>\n",
       "      <th>1</th>\n",
       "      <td>2017-07-12</td>\n",
       "      <td>ladder</td>\n",
       "      <td>battusai</td>\n",
       "      <td>[[Royal Giant, 13], [Ice Wizard, 2], [Bomber, ...</td>\n",
       "      <td>[Royal Giant, Ice Wizard, Bomber, Knight, Fire...</td>\n",
       "      <td>[13, 2, 12, 12, 9, 12, 2, 12]</td>\n",
       "      <td>Supr4</td>\n",
       "      <td>4296</td>\n",
       "      <td>The Wolves</td>\n",
       "      <td>[[Ice Spirit, 10], [Valkyrie, 9], [Hog Rider, ...</td>\n",
       "      <td>[Ice Spirit, Valkyrie, Hog Rider, Inferno Towe...</td>\n",
       "      <td>[10, 9, 9, 9, 12, 9, 12, 9]</td>\n",
       "      <td>TITAN</td>\n",
       "      <td>4237</td>\n",
       "      <td>1</td>\n",
       "      <td>0</td>\n",
       "    </tr>\n",
       "    <tr>\n",
       "      <th>2</th>\n",
       "      <td>2017-07-12</td>\n",
       "      <td>ladder</td>\n",
       "      <td>battusai</td>\n",
       "      <td>[[Royal Giant, 13], [Ice Wizard, 2], [Bomber, ...</td>\n",
       "      <td>[Royal Giant, Ice Wizard, Bomber, Knight, Fire...</td>\n",
       "      <td>[13, 2, 12, 12, 9, 12, 2, 12]</td>\n",
       "      <td>Supr4</td>\n",
       "      <td>4267</td>\n",
       "      <td>@LA PERLA NEGRA</td>\n",
       "      <td>[[Miner, 3], [Ice Golem, 9], [Spear Goblins, 1...</td>\n",
       "      <td>[Miner, Ice Golem, Spear Goblins, Minion Horde...</td>\n",
       "      <td>[3, 9, 12, 12, 8, 2, 6, 10]</td>\n",
       "      <td>Victor</td>\n",
       "      <td>4300</td>\n",
       "      <td>0</td>\n",
       "      <td>1</td>\n",
       "    </tr>\n",
       "    <tr>\n",
       "      <th>3</th>\n",
       "      <td>2017-07-12</td>\n",
       "      <td>ladder</td>\n",
       "      <td>battusai</td>\n",
       "      <td>[[Royal Giant, 13], [Ice Wizard, 2], [Bomber, ...</td>\n",
       "      <td>[Royal Giant, Ice Wizard, Bomber, Knight, Fire...</td>\n",
       "      <td>[13, 2, 12, 12, 9, 12, 2, 12]</td>\n",
       "      <td>Supr4</td>\n",
       "      <td>4299</td>\n",
       "      <td>ADAMLAR</td>\n",
       "      <td>[[Golem, 6], [Zap, 12], [The Log, 2], [Elixir ...</td>\n",
       "      <td>[Golem, Zap, The Log, Elixir Collector, Mega M...</td>\n",
       "      <td>[6, 12, 2, 9, 9, 13, 12, 6]</td>\n",
       "      <td>toprak</td>\n",
       "      <td>4240</td>\n",
       "      <td>1</td>\n",
       "      <td>0</td>\n",
       "    </tr>\n",
       "    <tr>\n",
       "      <th>4</th>\n",
       "      <td>2017-07-12</td>\n",
       "      <td>ladder</td>\n",
       "      <td>Nova l Imperio</td>\n",
       "      <td>[[Graveyard, 3], [Ice Wizard, 3], [Zap, 13], [...</td>\n",
       "      <td>[Graveyard, Ice Wizard, Zap, Mega Minion, Gian...</td>\n",
       "      <td>[3, 3, 13, 10, 10, 9, 13, 13]</td>\n",
       "      <td>ACM1PT!</td>\n",
       "      <td>4598</td>\n",
       "      <td>帝愛</td>\n",
       "      <td>[[Baby Dragon, 6], [Ice Spirit, 12], [Goblins,...</td>\n",
       "      <td>[Baby Dragon, Ice Spirit, Goblins, Golem, Torn...</td>\n",
       "      <td>[6, 12, 12, 6, 6, 6, 3, 3]</td>\n",
       "      <td>兵藤 和尊</td>\n",
       "      <td>4628</td>\n",
       "      <td>1</td>\n",
       "      <td>1</td>\n",
       "    </tr>\n",
       "  </tbody>\n",
       "</table>\n",
       "</div>"
      ],
      "text/plain": [
       "         time    type       left_clan  \\\n",
       "0  2017-07-12  ladder        battusai   \n",
       "1  2017-07-12  ladder        battusai   \n",
       "2  2017-07-12  ladder        battusai   \n",
       "3  2017-07-12  ladder        battusai   \n",
       "4  2017-07-12  ladder  Nova l Imperio   \n",
       "\n",
       "                                           left_deck  \\\n",
       "0  [[Fireball, 9], [Archers, 12], [Goblins, 12], ...   \n",
       "1  [[Royal Giant, 13], [Ice Wizard, 2], [Bomber, ...   \n",
       "2  [[Royal Giant, 13], [Ice Wizard, 2], [Bomber, ...   \n",
       "3  [[Royal Giant, 13], [Ice Wizard, 2], [Bomber, ...   \n",
       "4  [[Graveyard, 3], [Ice Wizard, 3], [Zap, 13], [...   \n",
       "\n",
       "                                      left_deck_list  \\\n",
       "0  [Fireball, Archers, Goblins, Minions, Bomber, ...   \n",
       "1  [Royal Giant, Ice Wizard, Bomber, Knight, Fire...   \n",
       "2  [Royal Giant, Ice Wizard, Bomber, Knight, Fire...   \n",
       "3  [Royal Giant, Ice Wizard, Bomber, Knight, Fire...   \n",
       "4  [Graveyard, Ice Wizard, Zap, Mega Minion, Gian...   \n",
       "\n",
       "                  left_level_list left_name left_trophy       right_clan  \\\n",
       "0  [9, 12, 12, 11, 12, 2, 12, 13]     Supr4        4325       TwoFiveOne   \n",
       "1   [13, 2, 12, 12, 9, 12, 2, 12]     Supr4        4296       The Wolves   \n",
       "2   [13, 2, 12, 12, 9, 12, 2, 12]     Supr4        4267  @LA PERLA NEGRA   \n",
       "3   [13, 2, 12, 12, 9, 12, 2, 12]     Supr4        4299          ADAMLAR   \n",
       "4   [3, 3, 13, 10, 10, 9, 13, 13]   ACM1PT!        4598               帝愛   \n",
       "\n",
       "                                          right_deck  \\\n",
       "0  [[Mega Minion, 9], [Electro Wizard, 3], [Arrow...   \n",
       "1  [[Ice Spirit, 10], [Valkyrie, 9], [Hog Rider, ...   \n",
       "2  [[Miner, 3], [Ice Golem, 9], [Spear Goblins, 1...   \n",
       "3  [[Golem, 6], [Zap, 12], [The Log, 2], [Elixir ...   \n",
       "4  [[Baby Dragon, 6], [Ice Spirit, 12], [Goblins,...   \n",
       "\n",
       "                                     right_deck_list  \\\n",
       "0  [Mega Minion, Electro Wizard, Arrows, Lightnin...   \n",
       "1  [Ice Spirit, Valkyrie, Hog Rider, Inferno Towe...   \n",
       "2  [Miner, Ice Golem, Spear Goblins, Minion Horde...   \n",
       "3  [Golem, Zap, The Log, Elixir Collector, Mega M...   \n",
       "4  [Baby Dragon, Ice Spirit, Goblins, Golem, Torn...   \n",
       "\n",
       "              right_level_list right_name right_trophy left_crowns  \\\n",
       "0    [9, 3, 11, 5, 9, 2, 9, 5]   gpa raid         4258           2   \n",
       "1  [10, 9, 9, 9, 12, 9, 12, 9]      TITAN         4237           1   \n",
       "2  [3, 9, 12, 12, 8, 2, 6, 10]     Victor         4300           0   \n",
       "3  [6, 12, 2, 9, 9, 13, 12, 6]     toprak         4240           1   \n",
       "4   [6, 12, 12, 6, 6, 6, 3, 3]      兵藤 和尊         4628           1   \n",
       "\n",
       "  right_crowns  \n",
       "0            0  \n",
       "1            0  \n",
       "2            1  \n",
       "3            0  \n",
       "4            1  "
      ]
     },
     "execution_count": 20,
     "metadata": {},
     "output_type": "execute_result"
    }
   ],
   "source": [
    "file_path = path.join(Data_path,'matches.txt')\n",
    "\n",
    "file = codecs.open(file_path, encoding='utf-8') # use codecs to read file (another encoding problem)\n",
    "\n",
    "cards_info = pd.read_csv(Data_path+'/info_cards.csv') # load card info to get elixir\n",
    "games = []\n",
    "\n",
    "errors = 0\n",
    "for i,line in enumerate(file.readlines()):\n",
    "    try:\n",
    "        dic = dict(ast.literal_eval(line.strip()))\n",
    "        games.append(dic)\n",
    "    except:\n",
    "        errors+=1\n",
    "        \n",
    "def parse(line):\n",
    "    \"flatten the json to get it in pandas format\"\n",
    "    keys = line.keys()\n",
    "    data_out = {}\n",
    "    for k in keys:\n",
    "        data_out[k+'_clan'] = line[k]['clan']\n",
    "        data_out[k+\"_deck\"] = line[k]['deck']\n",
    "        data_out[k+'_name']  = line[k]['name']\n",
    "        data_out[k+'_trophy']  = line[k]['trophy']\n",
    "        data_out[k+'_deck_list'] = [name for name, level in line[k]['deck']]\n",
    "        data_out[k+'_level_list'] = [level for name, level in line[k]['deck']]\n",
    "    return data_out\n",
    "\n",
    "games_df = pd.DataFrame(games)\n",
    "add_var = pd.DataFrame(list(games_df.players.map(lambda x: parse(x))))\n",
    "games_data = pd.concat([games_df.drop(\"players\",axis=1), add_var],axis = 1)\n",
    "res = pd.DataFrame(list(games_data.result), columns=['left_crowns', 'right_crowns'])\n",
    "games_data = pd.concat([games_data.drop('result',axis=1), res],axis=1)\n",
    "games_data.head()"
   ]
  },
  {
   "cell_type": "markdown",
   "metadata": {},
   "source": [
    "# Preprocessing Data"
   ]
  },
  {
   "cell_type": "code",
   "execution_count": 21,
   "metadata": {
    "collapsed": false
   },
   "outputs": [],
   "source": [
    "ids = games_data.type ==\"ladder\"\n",
    "games_data = games_data[ids]\n",
    "\n",
    "good_players = games_data.left_trophy.astype(int)>3000 # subset best players only\n",
    "games_data = games_data[good_players]\n",
    "games_data[\"mean_trophies\"] = (games_data.left_trophy.astype(int)+  games_data.right_trophy.astype(int))/2 # get mean trophy of two players\n",
    "games_data[\"diff_trophies\"] = (games_data.left_trophy.astype(int)+  games_data.right_trophy.astype(int)) # get trophy difference (probably not so much informative)\n",
    "games_data['left_diff'] = games_data.left_crowns.astype(int).astype(int) - games_data.right_crowns.astype(int)  # compute difference of column as target\n",
    "games_data['right_diff'] = games_data.right_crowns.astype(int) - games_data.left_crowns.astype(int) # same for right player\n",
    "\n",
    "left_deck = games_data[[\"left_level_list\",\"left_deck_list\",\"left_crowns\",\"left_diff\",\"mean_trophies\",\"diff_trophies\"]] # subset useful cplumns\n",
    "right_deck = games_data[[\"right_level_list\",\"right_deck_list\",\"right_crowns\",'right_diff',\"mean_trophies\",\"diff_trophies\"]]\n",
    "right_deck.columns = left_deck.columns # change name of left deck\n",
    "data = left_deck.append(right_deck) # concatenate rows of right players with rows of left players as if they were independant\n",
    "# might be a problem...\n",
    "\n",
    "data.reset_index(drop=True, inplace=True) # reset index to avoid future problems and let's get started"
   ]
  },
  {
   "cell_type": "code",
   "execution_count": 22,
   "metadata": {
    "collapsed": false
   },
   "outputs": [],
   "source": [
    "# compute two lists to get all the possible cards played in the dataset\n",
    "a = data.left_deck_list \n",
    "liste = set(chain.from_iterable(a))\n",
    "liste_2 = [l+\"_level\" for l in liste]"
   ]
  },
  {
   "cell_type": "code",
   "execution_count": 23,
   "metadata": {
    "collapsed": false
   },
   "outputs": [],
   "source": [
    "# map elixir to each card\n",
    "map_elixir = lambda x: [int(cards_info.loc[cards_info.name==a,\"elixir\"]) for a in x]"
   ]
  },
  {
   "cell_type": "code",
   "execution_count": 24,
   "metadata": {
    "collapsed": false
   },
   "outputs": [],
   "source": [
    "elixir_list = data.left_deck_list.map(map_elixir)\n",
    "elixir_mean = elixir_list.map(np.mean)"
   ]
  },
  {
   "cell_type": "code",
   "execution_count": 25,
   "metadata": {
    "collapsed": true
   },
   "outputs": [],
   "source": [
    "# compute mean of elixir (the objective was to find the optimal mean level of elixir: no robust results obtained)\n",
    "elixir_mean = elixir_list.map(np.mean)\n",
    "data['elixir_mean'] = elixir_mean"
   ]
  },
  {
   "cell_type": "markdown",
   "metadata": {},
   "source": [
    "questions: \n",
    "    - what's the impact of one card level on performance'\n",
    "    - what's the rarity optimal rarity level\n",
    "    - what is the relationship between elixir mean and performance (find optimal level of elixir)\n",
    "    - give personnal stats on past few games/Decks"
   ]
  },
  {
   "cell_type": "markdown",
   "metadata": {},
   "source": [
    "# Build one feature per card"
   ]
  },
  {
   "cell_type": "code",
   "execution_count": 26,
   "metadata": {
    "collapsed": true
   },
   "outputs": [],
   "source": [
    "from collections import Counter\n",
    "def map(deck):\n",
    "    s = Counter(deck)\n",
    "    res = {k:s[k] for k in liste}\n",
    "    return res\n",
    "flat_deck = data.left_deck_list.map(lambda x: map(x))\n",
    "cards = pd.DataFrame(list(flat_deck))"
   ]
  },
  {
   "cell_type": "markdown",
   "metadata": {},
   "source": [
    "# Build one feature per level"
   ]
  },
  {
   "cell_type": "code",
   "execution_count": 27,
   "metadata": {
    "collapsed": false
   },
   "outputs": [
    {
     "name": "stdout",
     "output_type": "stream",
     "text": [
      "Wall time: 1min 4s\n"
     ]
    }
   ],
   "source": [
    "%%time\n",
    "\n",
    "def map_again(tup):\n",
    "    classe = {v:int(k) for k,v in tup}\n",
    "    dico = {k:(classe[k.split(\"_\")[0]] if k.split(\"_\")[0] in classe else 0) for k in liste_2}\n",
    "    return dico\n",
    "\n",
    "format_row = lambda x: list(zip(x['left_level_list'], x[\"left_deck_list\"]))\n",
    "\n",
    "merged = data.apply(lambda x: format_row(x), axis=1)\n",
    "marged = merged.map(map_again)"
   ]
  },
  {
   "cell_type": "code",
   "execution_count": 28,
   "metadata": {
    "collapsed": false
   },
   "outputs": [],
   "source": [
    "levels = pd.DataFrame(list(marged))"
   ]
  },
  {
   "cell_type": "code",
   "execution_count": 29,
   "metadata": {
    "collapsed": false
   },
   "outputs": [],
   "source": [
    "# concatenate all features (aroound 200 features at the end, seems reasonable compared to nb of lines)\n",
    "X = pd.concat([cards, levels, data.mean_trophies, elixir_mean],axis=1)"
   ]
  },
  {
   "cell_type": "code",
   "execution_count": 34,
   "metadata": {
    "collapsed": false
   },
   "outputs": [],
   "source": [
    "# prepare targets for 4 different regressions (3 ordinal logit, and one Binary Logistic)\n",
    "# the coefficients obtained cannot directly be interpreted in odds ratio (marginal probability), but their amount does not really matter, their comparison\n",
    "#only is important (add odds ratio later)\n",
    "\n",
    "y_diff = data.left_diff.astype(int) #ordinal (crowns won - crowns lost) (from -3 to +3)\n",
    "y_attack = data.left_crowns.astype(int) # ordinal: crowns won: from 0 to 3\n",
    "y_defense = data.left_crowns.astype(int) - data.left_diff.astype(int) # ordinal crowns lost: from 0 to 3\n",
    "y_won = data.left_diff.astype(int) > 0 # logistic regression: True/False\n",
    "targets = [y_diff, y_attack, y_defense, y_won]"
   ]
  },
  {
   "cell_type": "code",
   "execution_count": null,
   "metadata": {
    "collapsed": false
   },
   "outputs": [],
   "source": [
    "%%time\n",
    "from sklearn.linear_model import LogisticRegression\n",
    "import mord\n",
    "# train the models (would be good to add crossvalidation? not sure)\n",
    "\n",
    "lrs = [mord.LogisticAT(verbose=1) for l in range(len(targets)-1)]\n",
    "lrs.append(LogisticRegression(n_jobs=-1,C=1e9))\n",
    "models = [lr.fit(X,t) for t, lr in zip(targets, lrs)]  "
   ]
  },
  {
   "cell_type": "code",
   "execution_count": null,
   "metadata": {
    "collapsed": false
   },
   "outputs": [],
   "source": [
    "# gather coefficients for each regression\n",
    "coef_dict = [{k:v for k,v in zip(X.columns, m.coef_)} for m in models[:-1]]\n",
    "coef_dict.append({k:v for k,v in zip(X.columns, models[-1].coef_[0])})"
   ]
  },
  {
   "cell_type": "code",
   "execution_count": null,
   "metadata": {
    "collapsed": false
   },
   "outputs": [],
   "source": [
    "# map coefs to dictionnaries\n",
    "coefs_cards = [{k:v for k,v in d.items() if k in liste} for d in coef_dict]\n",
    "coefs_level = [{k:v for k,v in d.items() if k in liste_2} for d in coef_dict]\n",
    "coefs_level = {k.split('_')[0]:v for k,v in coefs_level[0].items()} # take just diff regression parameters for coefs\n",
    "coefs_cards.append(coefs_level)"
   ]
  },
  {
   "cell_type": "code",
   "execution_count": null,
   "metadata": {
    "collapsed": false
   },
   "outputs": [],
   "source": [
    "# create a dict key: cards values: dict of results\n",
    "\n",
    "from collections import defaultdict\n",
    "final_dic = defaultdict(dict)\n",
    "for dico, attribute in zip(coefs_cards,[\"perf\",\"attack\",\"defense\",\"win_ratio\",\"level_bonus\"]):\n",
    "    for card in dico.keys():\n",
    "        final_dic[card][attribute] = dico[card]"
   ]
  },
  {
   "cell_type": "markdown",
   "metadata": {},
   "source": [
    "just save file to disk"
   ]
  },
  {
   "cell_type": "code",
   "execution_count": null,
   "metadata": {
    "collapsed": false
   },
   "outputs": [],
   "source": [
    "import json\n",
    "out_file = open(path.join(Data_path,\"informative_results/informative_regression.json\"),\"w\")\n",
    "json.dump(final_dic, out_file,indent=0)\n",
    "out_file.close()"
   ]
  },
  {
   "cell_type": "markdown",
   "metadata": {},
   "source": [
    "### interpretation:\n",
    "   * Performance: the presence of card x, increases the probability of having +1 in difference of crowns  (crown wons - crowns lost) by n % (n being the value in the json).\n",
    "   * Attack & Defense: The Presence of the card x in deck, increases the probability to destroy/lose one crown by n %\n",
    "   * win_ratio: The Presence of the card x in deck increases the  chance of winning the game by n % (independantly of the number of crowns)\n",
    "   * level_bonus: adding one level to the specific card will increase the difference of crowns by n %, it's probably wise to only compare value of cards sharing the same rarity (common with common, epic with epic...) since the level of different rarity is more difficult to obtain.\n",
    "   \n",
    "\n",
    "In order to know which card to invest in,  it would be appropriate to make a ratio gain in performance (measured by level_bonus and cost to achieve the level upgrade. (express this cost in a comparable unit between level of rarity...)\n",
    "\n",
    "---\n",
    "   \n",
    "Notes: \n",
    "- some of the results might not be robust (since fewer games were played with those specific cards), some indicator of robustness can be computed (bootstraped confidence intervals...), notheless the results obtained for win_ratio and perf are very likely to be robust (thousands of games for those cards)\n",
    "- these results may only be valid for good players (only above 3500 included in the analysis)\n",
    "- the analysis should be performed again after a change in the characterstic of a card."
   ]
  },
  {
   "cell_type": "code",
   "execution_count": null,
   "metadata": {
    "collapsed": false
   },
   "outputs": [],
   "source": [
    "def plotting_result(series, name = '', col =\"b\"):\n",
    "    pd.Series(series).sort_values().plot(kind = \"barh\", figsize = (8,15), color =col,title = name);"
   ]
  },
  {
   "cell_type": "code",
   "execution_count": null,
   "metadata": {
    "collapsed": false
   },
   "outputs": [],
   "source": [
    "plotting_result(coefs_cards[0], \"analysis of card overall performance\")"
   ]
  },
  {
   "cell_type": "code",
   "execution_count": null,
   "metadata": {
    "collapsed": false
   },
   "outputs": [],
   "source": [
    "plotting_result(coefs_cards[1],\"Attack\", 'red') \n",
    "# note: attack analysis just measure the number of towers destroyed, when this card is in the deck "
   ]
  },
  {
   "cell_type": "code",
   "execution_count": null,
   "metadata": {
    "collapsed": false
   },
   "outputs": [],
   "source": [
    "plotting_result(coefs_cards[2],\"Defense\",\"darkgrey\")"
   ]
  },
  {
   "cell_type": "code",
   "execution_count": null,
   "metadata": {
    "collapsed": false
   },
   "outputs": [],
   "source": [
    "plotting_result(coefs_cards[3], \"Win ratio\",\"violet\")"
   ]
  },
  {
   "cell_type": "code",
   "execution_count": null,
   "metadata": {
    "collapsed": false
   },
   "outputs": [],
   "source": [
    "plotting_result(coefs_level, \"Impact on performance of adding a level to the given card\", \"lime\")"
   ]
  },
  {
   "cell_type": "code",
   "execution_count": null,
   "metadata": {
    "collapsed": false
   },
   "outputs": [],
   "source": [
    "pprint(final_dic)"
   ]
  },
  {
   "cell_type": "code",
   "execution_count": null,
   "metadata": {
    "collapsed": true
   },
   "outputs": [],
   "source": [
    "import matplotlib.image as mpimg"
   ]
  },
  {
   "cell_type": "code",
   "execution_count": null,
   "metadata": {
    "collapsed": true
   },
   "outputs": [],
   "source": [
    "from matplotlib.offsetbox import (OffsetImage,AnnotationBbox)"
   ]
  },
  {
   "cell_type": "code",
   "execution_count": null,
   "metadata": {
    "collapsed": false
   },
   "outputs": [],
   "source": [
    "import glob\n",
    "image_path = glob.glob(Data_path+\"/images/*.png\")\n",
    "images = {i.split('\\\\')[-1].split('.png')[0].title() : mpimg.imread(i,format=\"png\") for i in image_path}\n",
    "images[\"Mini-PEKKA\"] = images[\"Mini-Pekka\"]\n",
    "images[\"PEKKA\"] = images[\"Pekka\"]"
   ]
  },
  {
   "cell_type": "code",
   "execution_count": null,
   "metadata": {
    "collapsed": false
   },
   "outputs": [],
   "source": [
    "def res_plot(data, images,title = \"\"):\n",
    "    f, ax = plt.subplots(figsize = (8,35))\n",
    "    plt.style.use('seaborn-white')\n",
    "    dat = pd.Series(data).sort_values()\n",
    "    sorted_images = [images[i.replace(' ','-').replace('.','')] for i in dat.index]\n",
    "    my_range = range(len(dat.index))\n",
    "    ax.hlines(y=my_range, xmin=0, xmax=dat.values, color='skyblue',linewidth = 3)\n",
    "    #ax.plot(dat, my_range, \"o\",color='r',markersize = 10)\n",
    "    ax.set_ylim(-1,76 )\n",
    "    ax.set_xlim(None,max(dat) +0.2)\n",
    "    ax.set_title(title)\n",
    "    ax.grid(color='r', linestyle='--', linewidth=2)\n",
    "    b=0\n",
    "    for image,y, x in zip(sorted_images, my_range, dat.values):\n",
    "        build_artist(ax, image, [x , y-0.5])\n",
    "        b+=0.001"
   ]
  },
  {
   "cell_type": "code",
   "execution_count": null,
   "metadata": {
    "collapsed": false
   },
   "outputs": [],
   "source": [
    "def build_artist(ax, image, xy):\n",
    "    im = OffsetImage(image, zoom=0.1)\n",
    "    im.image.axes = ax\n",
    "    ab = AnnotationBbox(im, xy, pad=0,\n",
    "                        xycoords='data',\n",
    "                        frameon=False,\n",
    "                        box_alignment =(0,0))\n",
    "    ax.add_artist(ab)"
   ]
  },
  {
   "cell_type": "code",
   "execution_count": null,
   "metadata": {
    "collapsed": false,
    "scrolled": false
   },
   "outputs": [],
   "source": [
    "res_plot(coefs_cards[0], images ,title=\"Overall Performance\")"
   ]
  },
  {
   "cell_type": "code",
   "execution_count": null,
   "metadata": {
    "collapsed": false,
    "scrolled": false
   },
   "outputs": [],
   "source": [
    "res_plot(coefs_cards[1], images=images)"
   ]
  },
  {
   "cell_type": "code",
   "execution_count": null,
   "metadata": {
    "collapsed": false
   },
   "outputs": [],
   "source": [
    "AnnotationBbox?"
   ]
  },
  {
   "cell_type": "code",
   "execution_count": null,
   "metadata": {
    "collapsed": false
   },
   "outputs": [],
   "source": [
    "\n",
    "[k.replace('-',' ') for k in images.keys()]"
   ]
  },
  {
   "cell_type": "code",
   "execution_count": null,
   "metadata": {
    "collapsed": true
   },
   "outputs": [],
   "source": []
  }
 ],
 "metadata": {
  "anaconda-cloud": {},
  "kernelspec": {
   "display_name": "Python [conda root]",
   "language": "python",
   "name": "conda-root-py"
  },
  "language_info": {
   "codemirror_mode": {
    "name": "ipython",
    "version": 3
   },
   "file_extension": ".py",
   "mimetype": "text/x-python",
   "name": "python",
   "nbconvert_exporter": "python",
   "pygments_lexer": "ipython3",
   "version": "3.5.2"
  }
 },
 "nbformat": 4,
 "nbformat_minor": 1
}
